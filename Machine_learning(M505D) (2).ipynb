{
 "cells": [
  {
   "cell_type": "markdown",
   "id": "526a8685-4d91-409b-a43e-d90d95e67f80",
   "metadata": {},
   "source": [
    "# M505D - Intro to AI And Machine Learning"
   ]
  },
  {
   "cell_type": "markdown",
   "id": "5eca0247-ca9b-4086-bf84-6321e8c661e2",
   "metadata": {},
   "source": [
    "# Student: Ajay Yadav\n",
    "# Student Number: GH1040814"
   ]
  },
  {
   "cell_type": "code",
   "execution_count": null,
   "id": "2a2f00ab-f09f-46e6-bc81-d8c3be577239",
   "metadata": {},
   "outputs": [],
   "source": []
  },
  {
   "cell_type": "markdown",
   "id": "dd61ed14-7b99-469d-af15-3c9cf5e3d5d9",
   "metadata": {},
   "source": [
    "# Mobile Price Classification using Logistic Regression and SVM-like Models"
   ]
  },
  {
   "cell_type": "markdown",
   "id": "43b72dcc-bde5-4a90-995c-4160fb156b71",
   "metadata": {},
   "source": [
    "# Summary"
   ]
  },
  {
   "cell_type": "markdown",
   "id": "781d6620-674b-4635-9da4-7e50506f140e",
   "metadata": {},
   "source": [
    "### This Project investigates if a mobile device's specifications—such as its RAM, battery, processor, display, camera, and so on—can be utilized to determine whether it is expensive or not. We applied two machine learning models—Logistic Regression and an SVM-like classifier (hinge loss)—that were created from scratch using Keras (without sklearn) on a dataset of mobile requirements. F1-score, recall, accuracy, and precision were used to assess the models."
   ]
  },
  {
   "cell_type": "markdown",
   "id": "928ec738-536b-4a0c-b914-68092243df31",
   "metadata": {},
   "source": [
    "# Description"
   ]
  },
  {
   "cell_type": "markdown",
   "id": "10e14c95-7461-4498-aede-d3e653af9ba7",
   "metadata": {},
   "source": [
    "### According to the analysis, the SVM-like model performed better in terms of accuracy and recall than logistic regression. This implies that price categorization may be impacted by non-linear correlations in mobile parameters, which would make SVM-like models more appropriate for these kinds of jobs."
   ]
  },
  {
   "cell_type": "markdown",
   "id": "9f0cbc58-b7a2-4a87-b4b5-e2085405b7cc",
   "metadata": {},
   "source": [
    "# Data set and Github link"
   ]
  },
  {
   "cell_type": "markdown",
   "id": "d1d9083c-8075-43fa-83bc-d4b2890a3028",
   "metadata": {},
   "source": [
    "# Data set \n",
    "https://www.kaggle.com/datasets/ankit07chy/mobile-uncleaned-data-set-scrapped-real-website \n",
    "# Github\n",
    "https://github.com/vishuajju4-cpu/M505D-AI-and-Machine-Learning"
   ]
  },
  {
   "cell_type": "code",
   "execution_count": 84,
   "id": "96144f1e-eb3d-4d54-bb93-f5f2ca8d1a06",
   "metadata": {},
   "outputs": [],
   "source": [
    "#import libraries\n",
    "import pandas as pd\n",
    "import numpy as np\n",
    "import matplotlib.pyplot as plt\n",
    "import seaborn as sns\n",
    "from tensorflow import keras\n",
    "from tensorflow.keras import layers"
   ]
  },
  {
   "cell_type": "code",
   "execution_count": 85,
   "id": "4f8c4db3-4a8a-4502-b9df-f5e397a1fa77",
   "metadata": {},
   "outputs": [
    {
     "data": {
      "text/html": [
       "<div>\n",
       "<style scoped>\n",
       "    .dataframe tbody tr th:only-of-type {\n",
       "        vertical-align: middle;\n",
       "    }\n",
       "\n",
       "    .dataframe tbody tr th {\n",
       "        vertical-align: top;\n",
       "    }\n",
       "\n",
       "    .dataframe thead th {\n",
       "        text-align: right;\n",
       "    }\n",
       "</style>\n",
       "<table border=\"1\" class=\"dataframe\">\n",
       "  <thead>\n",
       "    <tr style=\"text-align: right;\">\n",
       "      <th></th>\n",
       "      <th>Name</th>\n",
       "      <th>Spec Score</th>\n",
       "      <th>rating</th>\n",
       "      <th>price</th>\n",
       "      <th>img</th>\n",
       "      <th>tag</th>\n",
       "      <th>sim</th>\n",
       "      <th>processor</th>\n",
       "      <th>storage</th>\n",
       "      <th>battery</th>\n",
       "      <th>display</th>\n",
       "      <th>camera</th>\n",
       "      <th>memoryExternal</th>\n",
       "      <th>version</th>\n",
       "      <th>fm</th>\n",
       "    </tr>\n",
       "  </thead>\n",
       "  <tbody>\n",
       "    <tr>\n",
       "      <th>0</th>\n",
       "      <td>OPPO Reno 14 Pro 5G</td>\n",
       "      <td>89</td>\n",
       "      <td>4.65</td>\n",
       "      <td>41990</td>\n",
       "      <td>https://cdn1.smartprix.com/rx-is822PXo3-w280-h...</td>\n",
       "      <td>UPCOMING</td>\n",
       "      <td>Dual Sim, 3G, 4G, 5G, VoLTE, Wi-Fi, NFC, IR Bl...</td>\n",
       "      <td>Dimensity 8450, Octa Core, 3.25 GHz Processor</td>\n",
       "      <td>12 GB RAM, 256 GB inbuilt</td>\n",
       "      <td>6200 mAh Battery with 80W Fast Charging</td>\n",
       "      <td>6.83 inches, 1272 x 2800 px, 120 Hz Display wi...</td>\n",
       "      <td>50 MP + 50 MP + 50 MP Triple Rear &amp; 50 MP Fron...</td>\n",
       "      <td>NaN</td>\n",
       "      <td>Android v15</td>\n",
       "      <td>No FM Radio</td>\n",
       "    </tr>\n",
       "    <tr>\n",
       "      <th>1</th>\n",
       "      <td>OPPO Reno 14 5G</td>\n",
       "      <td>87</td>\n",
       "      <td>4.75</td>\n",
       "      <td>32990</td>\n",
       "      <td>https://cdn1.smartprix.com/rx-iRGgfcGDH-w280-h...</td>\n",
       "      <td>UPCOMING</td>\n",
       "      <td>Dual Sim, 3G, 4G, 5G, VoLTE, Wi-Fi, NFC, IR Bl...</td>\n",
       "      <td>Dimensity 8350, Octa Core, 3.35 GHz Processor</td>\n",
       "      <td>8 GB RAM, 256 GB inbuilt</td>\n",
       "      <td>6000 mAh Battery with 80W Fast Charging</td>\n",
       "      <td>6.59 inches, 1256 x 2760 px, 120 Hz Display wi...</td>\n",
       "      <td>50 MP + 50 MP + 8 MP Triple Rear &amp; 50 MP Front...</td>\n",
       "      <td>NaN</td>\n",
       "      <td>Android v15</td>\n",
       "      <td>No FM Radio</td>\n",
       "    </tr>\n",
       "    <tr>\n",
       "      <th>2</th>\n",
       "      <td>Poco F7 5G</td>\n",
       "      <td>83</td>\n",
       "      <td>4.75</td>\n",
       "      <td>31999</td>\n",
       "      <td>https://cdn1.smartprix.com/rx-icmgBU9Q2-w280-h...</td>\n",
       "      <td>LAUNCHED</td>\n",
       "      <td>Dual Sim, 3G, 4G, 5G, VoLTE, Wi-Fi, NFC, IR Bl...</td>\n",
       "      <td>Snapdragon 8s Gen4, Octa Core, 3.2 GHz Processor</td>\n",
       "      <td>12 GB RAM, 256 GB inbuilt</td>\n",
       "      <td>7550 mAh Battery with 90W Fast Charging</td>\n",
       "      <td>6.83 inches, 1280 x 2772 px, 120 Hz Display wi...</td>\n",
       "      <td>50 MP + 8 MP Dual Rear &amp; 20 MP Front Camera</td>\n",
       "      <td>Memory Card Not Supported</td>\n",
       "      <td>Android v15</td>\n",
       "      <td>NaN</td>\n",
       "    </tr>\n",
       "    <tr>\n",
       "      <th>3</th>\n",
       "      <td>Vivo X200 FE</td>\n",
       "      <td>89</td>\n",
       "      <td>4.65</td>\n",
       "      <td>49990</td>\n",
       "      <td>https://cdn1.smartprix.com/rx-iHI7IaQgQ-w280-h...</td>\n",
       "      <td>UPCOMING</td>\n",
       "      <td>Dual Sim, 3G, 4G, 5G, VoLTE, Wi-Fi, NFC, IR Bl...</td>\n",
       "      <td>Dimensity 9300 Plus, Octa Core, 3.25 GHz Proce...</td>\n",
       "      <td>12 GB RAM, 256 GB inbuilt</td>\n",
       "      <td>6500 mAh Battery with 90W Fast Charging</td>\n",
       "      <td>6.31 inches, 1216 x 2640 px, 120 Hz Display wi...</td>\n",
       "      <td>50 MP + 50 MP + 8 MP Triple Rear &amp; 50 MP Front...</td>\n",
       "      <td>Memory Card Not Supported</td>\n",
       "      <td>Android v15</td>\n",
       "      <td>NaN</td>\n",
       "    </tr>\n",
       "    <tr>\n",
       "      <th>4</th>\n",
       "      <td>OPPO K13x 5G</td>\n",
       "      <td>73</td>\n",
       "      <td>4.20</td>\n",
       "      <td>11999</td>\n",
       "      <td>https://cdn1.smartprix.com/rx-iXUulomIY-w280-h...</td>\n",
       "      <td>LAUNCHED</td>\n",
       "      <td>Dual Sim, 3G, 4G, 5G, VoLTE, Wi-Fi</td>\n",
       "      <td>Dimensity 6300, Octa Core, 2.4 GHz Processor</td>\n",
       "      <td>4 GB RAM, 128 GB inbuilt</td>\n",
       "      <td>6000 mAh Battery with 45W Fast Charging</td>\n",
       "      <td>6.67 inches, 720 x 1604 px, 120 Hz Display wit...</td>\n",
       "      <td>50 MP + 2 MP Dual Rear &amp; 8 MP Front Camera</td>\n",
       "      <td>Memory Card Supported, upto 2 TB</td>\n",
       "      <td>Android v15</td>\n",
       "      <td>NaN</td>\n",
       "    </tr>\n",
       "    <tr>\n",
       "      <th>...</th>\n",
       "      <td>...</td>\n",
       "      <td>...</td>\n",
       "      <td>...</td>\n",
       "      <td>...</td>\n",
       "      <td>...</td>\n",
       "      <td>...</td>\n",
       "      <td>...</td>\n",
       "      <td>...</td>\n",
       "      <td>...</td>\n",
       "      <td>...</td>\n",
       "      <td>...</td>\n",
       "      <td>...</td>\n",
       "      <td>...</td>\n",
       "      <td>...</td>\n",
       "      <td>...</td>\n",
       "    </tr>\n",
       "    <tr>\n",
       "      <th>1014</th>\n",
       "      <td>Realme GT 7 Pro Racing Edition</td>\n",
       "      <td>85</td>\n",
       "      <td>4.05</td>\n",
       "      <td>36999</td>\n",
       "      <td>https://cdn1.smartprix.com/rx-iA2dbnJIw-w280-h...</td>\n",
       "      <td>UPCOMING</td>\n",
       "      <td>Dual Sim, 3G, 4G, 5G, VoLTE, Wi-Fi, NFC, IR Bl...</td>\n",
       "      <td>Snapdragon 8 Elite, Octa Core, 4.32 GHz Processor</td>\n",
       "      <td>12 GB RAM, 256 GB inbuilt</td>\n",
       "      <td>6500 mAh Battery with 120W Fast Charging</td>\n",
       "      <td>6.78 inches, 1264 x 2780 px, 120 Hz Display wi...</td>\n",
       "      <td>50 MP + 8 MP Dual Rear &amp; 16 MP Front Camera</td>\n",
       "      <td>Memory Card Not Supported</td>\n",
       "      <td>Android v15</td>\n",
       "      <td>NaN</td>\n",
       "    </tr>\n",
       "    <tr>\n",
       "      <th>1015</th>\n",
       "      <td>iQOO Neo 11R</td>\n",
       "      <td>75</td>\n",
       "      <td>4.45</td>\n",
       "      <td>29990</td>\n",
       "      <td>https://cdn1.smartprix.com/rx-iBdtueAix-w280-h...</td>\n",
       "      <td>RUMORED</td>\n",
       "      <td>Dual Sim, 3G, 4G, 5G, VoLTE, Wi-Fi, NFC, IR Bl...</td>\n",
       "      <td>Octa Core Processor</td>\n",
       "      <td>12 GB RAM, 256 GB inbuilt</td>\n",
       "      <td>6700 mAh Battery with 100W Fast Charging</td>\n",
       "      <td>6.78 inches, 1260 x 2800 px, 144 Hz Display wi...</td>\n",
       "      <td>50 MP + 50 MP Dual Rear &amp; 32 MP Front Camera</td>\n",
       "      <td>NaN</td>\n",
       "      <td>Android v16</td>\n",
       "      <td>No FM Radio</td>\n",
       "    </tr>\n",
       "    <tr>\n",
       "      <th>1016</th>\n",
       "      <td>Samsung Galaxy S25 Plus (12GB RAM + 512GB)</td>\n",
       "      <td>88</td>\n",
       "      <td>4.25</td>\n",
       "      <td>111999</td>\n",
       "      <td>https://cdn1.smartprix.com/rx-iGH33GWY9-w280-h...</td>\n",
       "      <td>LAUNCHED</td>\n",
       "      <td>Dual Sim, 3G, 4G, 5G, VoLTE, Vo5G, Wi-Fi, NFC</td>\n",
       "      <td>Snapdragon 8Elite, Octa Core, 4.47 GHz Processor</td>\n",
       "      <td>12 GB RAM, 512 GB inbuilt</td>\n",
       "      <td>4900 mAh Battery with 45W Fast Charging</td>\n",
       "      <td>6.7 inches, 1440 x 3120 px, 120 Hz Display wit...</td>\n",
       "      <td>50 MP + 12 MP + 10 MP Triple Rear &amp; 12 MP Fron...</td>\n",
       "      <td>NaN</td>\n",
       "      <td>Android v15</td>\n",
       "      <td>No FM Radio</td>\n",
       "    </tr>\n",
       "    <tr>\n",
       "      <th>1017</th>\n",
       "      <td>Samsung Galaxy A14 4G (6GB RAM + 128 GB)</td>\n",
       "      <td>74</td>\n",
       "      <td>4.00</td>\n",
       "      <td>9699</td>\n",
       "      <td>https://cdn1.smartprix.com/rx-igcSDy9DV-w280-h...</td>\n",
       "      <td>LAUNCHED</td>\n",
       "      <td>Dual Sim, 3G, 4G, VoLTE, Wi-Fi</td>\n",
       "      <td>Exynos 850, Octa Core, 2 GHz Processor</td>\n",
       "      <td>6 GB RAM, 128 GB inbuilt</td>\n",
       "      <td>5000 mAh Battery with 15W Fast Charging</td>\n",
       "      <td>6.6 inches, 1080 x 2408 px Display with Water ...</td>\n",
       "      <td>50 MP + 5 MP + 2 MP Triple Rear &amp; 13 MP Front ...</td>\n",
       "      <td>Memory Card Supported, upto 1 TB</td>\n",
       "      <td>Android v13</td>\n",
       "      <td>NaN</td>\n",
       "    </tr>\n",
       "    <tr>\n",
       "      <th>1018</th>\n",
       "      <td>Tecno Spark 30C 5G (8GB RAM + 128GB)</td>\n",
       "      <td>75</td>\n",
       "      <td>4.65</td>\n",
       "      <td>12999</td>\n",
       "      <td>https://cdn1.smartprix.com/rx-ilU0Yr0Ho-w280-h...</td>\n",
       "      <td>LAUNCHED</td>\n",
       "      <td>Dual Sim, 3G, 4G, 5G, VoLTE, Wi-Fi, NFC, IR Bl...</td>\n",
       "      <td>Dimensity 6300, Octa Core, 2.4 GHz Processor</td>\n",
       "      <td>8 GB RAM, 128 GB inbuilt</td>\n",
       "      <td>5000 mAh Battery with 18W Fast Charging</td>\n",
       "      <td>6.67 inches, 720 x 1600 px, 120 Hz Display wit...</td>\n",
       "      <td>48 MP Dual Rear &amp; 8 MP Front Camera</td>\n",
       "      <td>Memory Card Supported, upto 1 TB</td>\n",
       "      <td>Android v14</td>\n",
       "      <td>NaN</td>\n",
       "    </tr>\n",
       "  </tbody>\n",
       "</table>\n",
       "<p>1019 rows × 15 columns</p>\n",
       "</div>"
      ],
      "text/plain": [
       "                                            Name  Spec Score  rating   price  \\\n",
       "0                            OPPO Reno 14 Pro 5G          89    4.65   41990   \n",
       "1                                OPPO Reno 14 5G          87    4.75   32990   \n",
       "2                                     Poco F7 5G          83    4.75   31999   \n",
       "3                                   Vivo X200 FE          89    4.65   49990   \n",
       "4                                   OPPO K13x 5G          73    4.20   11999   \n",
       "...                                          ...         ...     ...     ...   \n",
       "1014              Realme GT 7 Pro Racing Edition          85    4.05   36999   \n",
       "1015                                iQOO Neo 11R          75    4.45   29990   \n",
       "1016  Samsung Galaxy S25 Plus (12GB RAM + 512GB)          88    4.25  111999   \n",
       "1017    Samsung Galaxy A14 4G (6GB RAM + 128 GB)          74    4.00    9699   \n",
       "1018        Tecno Spark 30C 5G (8GB RAM + 128GB)          75    4.65   12999   \n",
       "\n",
       "                                                    img       tag  \\\n",
       "0     https://cdn1.smartprix.com/rx-is822PXo3-w280-h...  UPCOMING   \n",
       "1     https://cdn1.smartprix.com/rx-iRGgfcGDH-w280-h...  UPCOMING   \n",
       "2     https://cdn1.smartprix.com/rx-icmgBU9Q2-w280-h...  LAUNCHED   \n",
       "3     https://cdn1.smartprix.com/rx-iHI7IaQgQ-w280-h...  UPCOMING   \n",
       "4     https://cdn1.smartprix.com/rx-iXUulomIY-w280-h...  LAUNCHED   \n",
       "...                                                 ...       ...   \n",
       "1014  https://cdn1.smartprix.com/rx-iA2dbnJIw-w280-h...  UPCOMING   \n",
       "1015  https://cdn1.smartprix.com/rx-iBdtueAix-w280-h...   RUMORED   \n",
       "1016  https://cdn1.smartprix.com/rx-iGH33GWY9-w280-h...  LAUNCHED   \n",
       "1017  https://cdn1.smartprix.com/rx-igcSDy9DV-w280-h...  LAUNCHED   \n",
       "1018  https://cdn1.smartprix.com/rx-ilU0Yr0Ho-w280-h...  LAUNCHED   \n",
       "\n",
       "                                                    sim  \\\n",
       "0     Dual Sim, 3G, 4G, 5G, VoLTE, Wi-Fi, NFC, IR Bl...   \n",
       "1     Dual Sim, 3G, 4G, 5G, VoLTE, Wi-Fi, NFC, IR Bl...   \n",
       "2     Dual Sim, 3G, 4G, 5G, VoLTE, Wi-Fi, NFC, IR Bl...   \n",
       "3     Dual Sim, 3G, 4G, 5G, VoLTE, Wi-Fi, NFC, IR Bl...   \n",
       "4                    Dual Sim, 3G, 4G, 5G, VoLTE, Wi-Fi   \n",
       "...                                                 ...   \n",
       "1014  Dual Sim, 3G, 4G, 5G, VoLTE, Wi-Fi, NFC, IR Bl...   \n",
       "1015  Dual Sim, 3G, 4G, 5G, VoLTE, Wi-Fi, NFC, IR Bl...   \n",
       "1016      Dual Sim, 3G, 4G, 5G, VoLTE, Vo5G, Wi-Fi, NFC   \n",
       "1017                     Dual Sim, 3G, 4G, VoLTE, Wi-Fi   \n",
       "1018  Dual Sim, 3G, 4G, 5G, VoLTE, Wi-Fi, NFC, IR Bl...   \n",
       "\n",
       "                                              processor  \\\n",
       "0         Dimensity 8450, Octa Core, 3.25 GHz Processor   \n",
       "1         Dimensity 8350, Octa Core, 3.35 GHz Processor   \n",
       "2      Snapdragon 8s Gen4, Octa Core, 3.2 GHz Processor   \n",
       "3     Dimensity 9300 Plus, Octa Core, 3.25 GHz Proce...   \n",
       "4          Dimensity 6300, Octa Core, 2.4 GHz Processor   \n",
       "...                                                 ...   \n",
       "1014  Snapdragon 8 Elite, Octa Core, 4.32 GHz Processor   \n",
       "1015                                Octa Core Processor   \n",
       "1016   Snapdragon 8Elite, Octa Core, 4.47 GHz Processor   \n",
       "1017             Exynos 850, Octa Core, 2 GHz Processor   \n",
       "1018       Dimensity 6300, Octa Core, 2.4 GHz Processor   \n",
       "\n",
       "                        storage                                   battery  \\\n",
       "0     12 GB RAM, 256 GB inbuilt   6200 mAh Battery with 80W Fast Charging   \n",
       "1      8 GB RAM, 256 GB inbuilt   6000 mAh Battery with 80W Fast Charging   \n",
       "2     12 GB RAM, 256 GB inbuilt   7550 mAh Battery with 90W Fast Charging   \n",
       "3     12 GB RAM, 256 GB inbuilt   6500 mAh Battery with 90W Fast Charging   \n",
       "4      4 GB RAM, 128 GB inbuilt   6000 mAh Battery with 45W Fast Charging   \n",
       "...                         ...                                       ...   \n",
       "1014  12 GB RAM, 256 GB inbuilt  6500 mAh Battery with 120W Fast Charging   \n",
       "1015  12 GB RAM, 256 GB inbuilt  6700 mAh Battery with 100W Fast Charging   \n",
       "1016  12 GB RAM, 512 GB inbuilt   4900 mAh Battery with 45W Fast Charging   \n",
       "1017   6 GB RAM, 128 GB inbuilt   5000 mAh Battery with 15W Fast Charging   \n",
       "1018   8 GB RAM, 128 GB inbuilt   5000 mAh Battery with 18W Fast Charging   \n",
       "\n",
       "                                                display  \\\n",
       "0     6.83 inches, 1272 x 2800 px, 120 Hz Display wi...   \n",
       "1     6.59 inches, 1256 x 2760 px, 120 Hz Display wi...   \n",
       "2     6.83 inches, 1280 x 2772 px, 120 Hz Display wi...   \n",
       "3     6.31 inches, 1216 x 2640 px, 120 Hz Display wi...   \n",
       "4     6.67 inches, 720 x 1604 px, 120 Hz Display wit...   \n",
       "...                                                 ...   \n",
       "1014  6.78 inches, 1264 x 2780 px, 120 Hz Display wi...   \n",
       "1015  6.78 inches, 1260 x 2800 px, 144 Hz Display wi...   \n",
       "1016  6.7 inches, 1440 x 3120 px, 120 Hz Display wit...   \n",
       "1017  6.6 inches, 1080 x 2408 px Display with Water ...   \n",
       "1018  6.67 inches, 720 x 1600 px, 120 Hz Display wit...   \n",
       "\n",
       "                                                 camera  \\\n",
       "0     50 MP + 50 MP + 50 MP Triple Rear & 50 MP Fron...   \n",
       "1     50 MP + 50 MP + 8 MP Triple Rear & 50 MP Front...   \n",
       "2           50 MP + 8 MP Dual Rear & 20 MP Front Camera   \n",
       "3     50 MP + 50 MP + 8 MP Triple Rear & 50 MP Front...   \n",
       "4            50 MP + 2 MP Dual Rear & 8 MP Front Camera   \n",
       "...                                                 ...   \n",
       "1014        50 MP + 8 MP Dual Rear & 16 MP Front Camera   \n",
       "1015       50 MP + 50 MP Dual Rear & 32 MP Front Camera   \n",
       "1016  50 MP + 12 MP + 10 MP Triple Rear & 12 MP Fron...   \n",
       "1017  50 MP + 5 MP + 2 MP Triple Rear & 13 MP Front ...   \n",
       "1018                48 MP Dual Rear & 8 MP Front Camera   \n",
       "\n",
       "                        memoryExternal      version           fm  \n",
       "0                                  NaN  Android v15  No FM Radio  \n",
       "1                                  NaN  Android v15  No FM Radio  \n",
       "2            Memory Card Not Supported  Android v15          NaN  \n",
       "3            Memory Card Not Supported  Android v15          NaN  \n",
       "4     Memory Card Supported, upto 2 TB  Android v15          NaN  \n",
       "...                                ...          ...          ...  \n",
       "1014         Memory Card Not Supported  Android v15          NaN  \n",
       "1015                               NaN  Android v16  No FM Radio  \n",
       "1016                               NaN  Android v15  No FM Radio  \n",
       "1017  Memory Card Supported, upto 1 TB  Android v13          NaN  \n",
       "1018  Memory Card Supported, upto 1 TB  Android v14          NaN  \n",
       "\n",
       "[1019 rows x 15 columns]"
      ]
     },
     "execution_count": 85,
     "metadata": {},
     "output_type": "execute_result"
    }
   ],
   "source": [
    "# Load Dataset\n",
    "df = pd.read_csv(\"C:\\\\AI_Application\\\\mobile.csv\")  \n",
    "df"
   ]
  },
  {
   "cell_type": "code",
   "execution_count": 86,
   "id": "10fd92e2-0e89-44d0-9dae-a4e6fd67382e",
   "metadata": {},
   "outputs": [
    {
     "name": "stdout",
     "output_type": "stream",
     "text": [
      "<class 'pandas.core.frame.DataFrame'>\n",
      "RangeIndex: 1019 entries, 0 to 1018\n",
      "Data columns (total 15 columns):\n",
      " #   Column          Non-Null Count  Dtype  \n",
      "---  ------          --------------  -----  \n",
      " 0   Name            1019 non-null   object \n",
      " 1   Spec Score      1019 non-null   int64  \n",
      " 2   rating          1019 non-null   float64\n",
      " 3   price           1019 non-null   int64  \n",
      " 4   img             1019 non-null   object \n",
      " 5   tag             1019 non-null   object \n",
      " 6   sim             1019 non-null   object \n",
      " 7   processor       993 non-null    object \n",
      " 8   storage         999 non-null    object \n",
      " 9   battery         1013 non-null   object \n",
      " 10  display         1018 non-null   object \n",
      " 11  camera          1008 non-null   object \n",
      " 12  memoryExternal  668 non-null    object \n",
      " 13  version         971 non-null    object \n",
      " 14  fm              294 non-null    object \n",
      "dtypes: float64(1), int64(2), object(12)\n",
      "memory usage: 119.5+ KB\n"
     ]
    }
   ],
   "source": [
    "df.info()"
   ]
  },
  {
   "cell_type": "code",
   "execution_count": 87,
   "id": "b1dcffe7-8772-42ae-a9c9-c54e17bd8be1",
   "metadata": {},
   "outputs": [
    {
     "data": {
      "text/plain": [
       "(1019, 15)"
      ]
     },
     "execution_count": 87,
     "metadata": {},
     "output_type": "execute_result"
    }
   ],
   "source": [
    "df.shape"
   ]
  },
  {
   "cell_type": "code",
   "execution_count": 88,
   "id": "e9f0f943-8626-46db-9ca7-299f686c9d08",
   "metadata": {},
   "outputs": [
    {
     "data": {
      "text/html": [
       "<div>\n",
       "<style scoped>\n",
       "    .dataframe tbody tr th:only-of-type {\n",
       "        vertical-align: middle;\n",
       "    }\n",
       "\n",
       "    .dataframe tbody tr th {\n",
       "        vertical-align: top;\n",
       "    }\n",
       "\n",
       "    .dataframe thead th {\n",
       "        text-align: right;\n",
       "    }\n",
       "</style>\n",
       "<table border=\"1\" class=\"dataframe\">\n",
       "  <thead>\n",
       "    <tr style=\"text-align: right;\">\n",
       "      <th></th>\n",
       "      <th>Spec Score</th>\n",
       "      <th>rating</th>\n",
       "      <th>price</th>\n",
       "    </tr>\n",
       "  </thead>\n",
       "  <tbody>\n",
       "    <tr>\n",
       "      <th>count</th>\n",
       "      <td>1019.000000</td>\n",
       "      <td>1019.000000</td>\n",
       "      <td>1019.000000</td>\n",
       "    </tr>\n",
       "    <tr>\n",
       "      <th>mean</th>\n",
       "      <td>78.513248</td>\n",
       "      <td>4.377380</td>\n",
       "      <td>35006.714426</td>\n",
       "    </tr>\n",
       "    <tr>\n",
       "      <th>std</th>\n",
       "      <td>12.754081</td>\n",
       "      <td>0.234293</td>\n",
       "      <td>40671.714570</td>\n",
       "    </tr>\n",
       "    <tr>\n",
       "      <th>min</th>\n",
       "      <td>7.000000</td>\n",
       "      <td>3.450000</td>\n",
       "      <td>99.000000</td>\n",
       "    </tr>\n",
       "    <tr>\n",
       "      <th>25%</th>\n",
       "      <td>75.000000</td>\n",
       "      <td>4.150000</td>\n",
       "      <td>13999.000000</td>\n",
       "    </tr>\n",
       "    <tr>\n",
       "      <th>50%</th>\n",
       "      <td>81.000000</td>\n",
       "      <td>4.400000</td>\n",
       "      <td>23498.000000</td>\n",
       "    </tr>\n",
       "    <tr>\n",
       "      <th>75%</th>\n",
       "      <td>85.000000</td>\n",
       "      <td>4.600000</td>\n",
       "      <td>39990.000000</td>\n",
       "    </tr>\n",
       "    <tr>\n",
       "      <th>max</th>\n",
       "      <td>96.000000</td>\n",
       "      <td>4.750000</td>\n",
       "      <td>489990.000000</td>\n",
       "    </tr>\n",
       "  </tbody>\n",
       "</table>\n",
       "</div>"
      ],
      "text/plain": [
       "        Spec Score       rating          price\n",
       "count  1019.000000  1019.000000    1019.000000\n",
       "mean     78.513248     4.377380   35006.714426\n",
       "std      12.754081     0.234293   40671.714570\n",
       "min       7.000000     3.450000      99.000000\n",
       "25%      75.000000     4.150000   13999.000000\n",
       "50%      81.000000     4.400000   23498.000000\n",
       "75%      85.000000     4.600000   39990.000000\n",
       "max      96.000000     4.750000  489990.000000"
      ]
     },
     "execution_count": 88,
     "metadata": {},
     "output_type": "execute_result"
    }
   ],
   "source": [
    "df.describe()"
   ]
  },
  {
   "cell_type": "code",
   "execution_count": 89,
   "id": "8a9e6bdd-a3ad-4b29-a350-2a9a148a71fc",
   "metadata": {},
   "outputs": [
    {
     "data": {
      "text/plain": [
       "Name              1017\n",
       "Spec Score          68\n",
       "rating              19\n",
       "price              483\n",
       "img                947\n",
       "tag                  3\n",
       "sim                 29\n",
       "processor          240\n",
       "storage             31\n",
       "battery            280\n",
       "display            343\n",
       "camera             278\n",
       "memoryExternal      19\n",
       "version             26\n",
       "fm                   1\n",
       "dtype: int64"
      ]
     },
     "execution_count": 89,
     "metadata": {},
     "output_type": "execute_result"
    }
   ],
   "source": [
    "# Checking Unique Values\n",
    "df.nunique()"
   ]
  },
  {
   "cell_type": "code",
   "execution_count": 90,
   "id": "3f606ed0-6374-4053-8e0f-38bb2f96a66a",
   "metadata": {},
   "outputs": [
    {
     "data": {
      "text/plain": [
       "Name                0\n",
       "Spec Score          0\n",
       "rating              0\n",
       "price               0\n",
       "img                 0\n",
       "tag                 0\n",
       "sim                 0\n",
       "processor          26\n",
       "storage            20\n",
       "battery             6\n",
       "display             1\n",
       "camera             11\n",
       "memoryExternal    351\n",
       "version            48\n",
       "fm                725\n",
       "dtype: int64"
      ]
     },
     "execution_count": 90,
     "metadata": {},
     "output_type": "execute_result"
    }
   ],
   "source": [
    "df.isnull().sum()"
   ]
  },
  {
   "cell_type": "markdown",
   "id": "745ac389-0684-4a5b-baf3-e784a6d7268c",
   "metadata": {},
   "source": [
    "# Dealing with missing Values Column by Column"
   ]
  },
  {
   "cell_type": "code",
   "execution_count": 91,
   "id": "4c37d90b-7dc7-41bf-8f39-7dabc04287e6",
   "metadata": {},
   "outputs": [
    {
     "name": "stdout",
     "output_type": "stream",
     "text": [
      "Missing Values Before Cleaning:\n",
      " Name                0\n",
      "Spec Score          0\n",
      "rating              0\n",
      "price               0\n",
      "img                 0\n",
      "tag                 0\n",
      "sim                 0\n",
      "processor          26\n",
      "storage            20\n",
      "battery             6\n",
      "display             1\n",
      "camera             11\n",
      "memoryExternal    351\n",
      "version            48\n",
      "fm                725\n",
      "dtype: int64\n",
      "Filled missing values in categorical column 'processor' with mode = Dimensity 6300, Octa Core, 2.4 GHz Processor\n",
      "Filled missing values in categorical column 'storage' with mode = 8 GB RAM, 128 GB inbuilt\n",
      "Filled missing values in categorical column 'battery' with mode = 5000 mAh Battery with 45W Fast Charging\n",
      "Filled missing values in categorical column 'display' with mode = 6.67 inches, 1080 x 2400 px, 120 Hz Display with Punch Hole\n",
      "Filled missing values in categorical column 'camera' with mode = 50 MP + 2 MP Dual Rear & 8 MP Front Camera\n",
      "Filled missing values in categorical column 'memoryExternal' with mode = Memory Card Not Supported\n",
      "Filled missing values in categorical column 'version' with mode = Android v15\n",
      "Filled missing values in categorical column 'fm' with mode = No FM Radio\n",
      "\n",
      "Missing Values After Cleaning:\n",
      " Name              0\n",
      "Spec Score        0\n",
      "rating            0\n",
      "price             0\n",
      "img               0\n",
      "tag               0\n",
      "sim               0\n",
      "processor         0\n",
      "storage           0\n",
      "battery           0\n",
      "display           0\n",
      "camera            0\n",
      "memoryExternal    0\n",
      "version           0\n",
      "fm                0\n",
      "dtype: int64\n"
     ]
    },
    {
     "name": "stderr",
     "output_type": "stream",
     "text": [
      "C:\\Users\\ajyad\\AppData\\Local\\Temp\\ipykernel_32264\\2413410552.py:15: FutureWarning: A value is trying to be set on a copy of a DataFrame or Series through chained assignment using an inplace method.\n",
      "The behavior will change in pandas 3.0. This inplace method will never work because the intermediate object on which we are setting values always behaves as a copy.\n",
      "\n",
      "For example, when doing 'df[col].method(value, inplace=True)', try using 'df.method({col: value}, inplace=True)' or df[col] = df[col].method(value) instead, to perform the operation inplace on the original object.\n",
      "\n",
      "\n",
      "  df[col].fillna(mode_val, inplace=True)\n"
     ]
    }
   ],
   "source": [
    "print(\"Missing Values Before Cleaning:\\n\", df.isnull().sum())\n",
    "\n",
    "# Dealing with missing values column by column\n",
    "for col in df.columns:\n",
    "    if df[col].isnull().sum() > 0:  # If column has missing values\n",
    "        if df[col].dtype in [\"float64\", \"int64\"]:   # Numeric column\n",
    "            median_val = df[col].median()\n",
    "            df[col].fillna(median_val, inplace=True)\n",
    "            print(f\"Filled missing values in numeric column '{col}' with median = {median_val}\")\n",
    "        else:   # Categorical / text column\n",
    "            if not df[col].mode().empty:\n",
    "                mode_val = df[col].mode()[0]\n",
    "            else:\n",
    "                mode_val = \"Unknown\"\n",
    "            df[col].fillna(mode_val, inplace=True)\n",
    "            print(f\"Filled missing values in categorical column '{col}' with mode = {mode_val}\")\n",
    "\n",
    "print(\"\\nMissing Values After Cleaning:\\n\", df.isnull().sum())"
   ]
  },
  {
   "cell_type": "code",
   "execution_count": 92,
   "id": "44c04d6c-26b9-4e9b-b6e2-6fb681525def",
   "metadata": {},
   "outputs": [
    {
     "data": {
      "text/plain": [
       "Name              0\n",
       "Spec Score        0\n",
       "rating            0\n",
       "price             0\n",
       "img               0\n",
       "tag               0\n",
       "sim               0\n",
       "processor         0\n",
       "storage           0\n",
       "battery           0\n",
       "display           0\n",
       "camera            0\n",
       "memoryExternal    0\n",
       "version           0\n",
       "fm                0\n",
       "dtype: int64"
      ]
     },
     "execution_count": 92,
     "metadata": {},
     "output_type": "execute_result"
    }
   ],
   "source": [
    "df.isnull().sum()"
   ]
  },
  {
   "cell_type": "code",
   "execution_count": 93,
   "id": "601c1e17-a8e7-4cfe-bc57-e5a0b45c8359",
   "metadata": {},
   "outputs": [],
   "source": [
    "df_cleaned = df.to_csv('mobile_cleaned_dataset',index=False)"
   ]
  },
  {
   "cell_type": "code",
   "execution_count": 94,
   "id": "a497dff6-6bcb-4dbd-b650-6b6a10cf94c4",
   "metadata": {},
   "outputs": [],
   "source": [
    "# Select only numeric columns for outlier detection\n",
    "numeric_cols = df.select_dtypes(include=['float64', 'int64']).columns\n",
    "\n",
    "outliers_summary = {}\n",
    "\n",
    "# Detect outliers using IQR method\n",
    "for col in numeric_cols:\n",
    "    Q1 = df[col].quantile(0.25)\n",
    "    Q3"
   ]
  },
  {
   "cell_type": "code",
   "execution_count": 95,
   "id": "45802ed5-6cbe-4841-9d47-df58524e723c",
   "metadata": {},
   "outputs": [
    {
     "data": {
      "text/html": [
       "<div>\n",
       "<style scoped>\n",
       "    .dataframe tbody tr th:only-of-type {\n",
       "        vertical-align: middle;\n",
       "    }\n",
       "\n",
       "    .dataframe tbody tr th {\n",
       "        vertical-align: top;\n",
       "    }\n",
       "\n",
       "    .dataframe thead th {\n",
       "        text-align: right;\n",
       "    }\n",
       "</style>\n",
       "<table border=\"1\" class=\"dataframe\">\n",
       "  <thead>\n",
       "    <tr style=\"text-align: right;\">\n",
       "      <th></th>\n",
       "      <th>Spec Score</th>\n",
       "      <th>rating</th>\n",
       "      <th>price</th>\n",
       "    </tr>\n",
       "  </thead>\n",
       "  <tbody>\n",
       "    <tr>\n",
       "      <th>count</th>\n",
       "      <td>1019.000000</td>\n",
       "      <td>1019.000000</td>\n",
       "      <td>1019.000000</td>\n",
       "    </tr>\n",
       "    <tr>\n",
       "      <th>mean</th>\n",
       "      <td>78.513248</td>\n",
       "      <td>4.377380</td>\n",
       "      <td>35006.714426</td>\n",
       "    </tr>\n",
       "    <tr>\n",
       "      <th>std</th>\n",
       "      <td>12.754081</td>\n",
       "      <td>0.234293</td>\n",
       "      <td>40671.714570</td>\n",
       "    </tr>\n",
       "    <tr>\n",
       "      <th>min</th>\n",
       "      <td>7.000000</td>\n",
       "      <td>3.450000</td>\n",
       "      <td>99.000000</td>\n",
       "    </tr>\n",
       "    <tr>\n",
       "      <th>25%</th>\n",
       "      <td>75.000000</td>\n",
       "      <td>4.150000</td>\n",
       "      <td>13999.000000</td>\n",
       "    </tr>\n",
       "    <tr>\n",
       "      <th>50%</th>\n",
       "      <td>81.000000</td>\n",
       "      <td>4.400000</td>\n",
       "      <td>23498.000000</td>\n",
       "    </tr>\n",
       "    <tr>\n",
       "      <th>75%</th>\n",
       "      <td>85.000000</td>\n",
       "      <td>4.600000</td>\n",
       "      <td>39990.000000</td>\n",
       "    </tr>\n",
       "    <tr>\n",
       "      <th>max</th>\n",
       "      <td>96.000000</td>\n",
       "      <td>4.750000</td>\n",
       "      <td>489990.000000</td>\n",
       "    </tr>\n",
       "  </tbody>\n",
       "</table>\n",
       "</div>"
      ],
      "text/plain": [
       "        Spec Score       rating          price\n",
       "count  1019.000000  1019.000000    1019.000000\n",
       "mean     78.513248     4.377380   35006.714426\n",
       "std      12.754081     0.234293   40671.714570\n",
       "min       7.000000     3.450000      99.000000\n",
       "25%      75.000000     4.150000   13999.000000\n",
       "50%      81.000000     4.400000   23498.000000\n",
       "75%      85.000000     4.600000   39990.000000\n",
       "max      96.000000     4.750000  489990.000000"
      ]
     },
     "execution_count": 95,
     "metadata": {},
     "output_type": "execute_result"
    }
   ],
   "source": [
    "df.describe()"
   ]
  },
  {
   "cell_type": "code",
   "execution_count": 96,
   "id": "0ba0c928-c302-41d6-a4fe-74b1af23cfb1",
   "metadata": {},
   "outputs": [
    {
     "name": "stderr",
     "output_type": "stream",
     "text": [
      "C:\\Users\\ajyad\\AppData\\Local\\Temp\\ipykernel_32264\\4199710866.py:3: UserWarning: \n",
      "\n",
      "`distplot` is a deprecated function and will be removed in seaborn v0.14.0.\n",
      "\n",
      "Please adapt your code to use either `displot` (a figure-level function with\n",
      "similar flexibility) or `histplot` (an axes-level function for histograms).\n",
      "\n",
      "For a guide to updating your code to use the new functions, please see\n",
      "https://gist.github.com/mwaskom/de44147ed2974457ad6372750bbe5751\n",
      "\n",
      "  sns.distplot(df['Spec Score'])\n",
      "C:\\Users\\ajyad\\AppData\\Local\\Temp\\ipykernel_32264\\4199710866.py:5: UserWarning: \n",
      "\n",
      "`distplot` is a deprecated function and will be removed in seaborn v0.14.0.\n",
      "\n",
      "Please adapt your code to use either `displot` (a figure-level function with\n",
      "similar flexibility) or `histplot` (an axes-level function for histograms).\n",
      "\n",
      "For a guide to updating your code to use the new functions, please see\n",
      "https://gist.github.com/mwaskom/de44147ed2974457ad6372750bbe5751\n",
      "\n",
      "  sns.distplot(df['rating'])\n",
      "C:\\Users\\ajyad\\AppData\\Local\\Temp\\ipykernel_32264\\4199710866.py:7: UserWarning: \n",
      "\n",
      "`distplot` is a deprecated function and will be removed in seaborn v0.14.0.\n",
      "\n",
      "Please adapt your code to use either `displot` (a figure-level function with\n",
      "similar flexibility) or `histplot` (an axes-level function for histograms).\n",
      "\n",
      "For a guide to updating your code to use the new functions, please see\n",
      "https://gist.github.com/mwaskom/de44147ed2974457ad6372750bbe5751\n",
      "\n",
      "  sns.distplot(df['price'])\n"
     ]
    },
    {
     "data": {
      "text/plain": [
       "<Axes: xlabel='price', ylabel='Density'>"
      ]
     },
     "execution_count": 96,
     "metadata": {},
     "output_type": "execute_result"
    },
    {
     "data": {
      "image/png": "[encoded data removed]",
      "text/plain": [
       "<Figure size 1200x700 with 3 Axes>"
      ]
     },
     "metadata": {},
     "output_type": "display_data"
    }
   ],
   "source": [
    "plt.figure(figsize = (12,7))\n",
    "plt.subplot(2,2,1)\n",
    "sns.distplot(df['Spec Score'])\n",
    "plt.subplot(2,2,2)\n",
    "sns.distplot(df['rating'])\n",
    "plt.subplot(2,2,3)\n",
    "sns.distplot(df['price'])"
   ]
  },
  {
   "cell_type": "code",
   "execution_count": null,
   "id": "7b8ee24b-3a50-4c9a-b7b5-f4db23746bb2",
   "metadata": {},
   "outputs": [],
   "source": []
  },
  {
   "cell_type": "markdown",
   "id": "f6cae531-0da2-4dbb-b69d-7b0232fe880a",
   "metadata": {},
   "source": [
    "### Removing Outliers"
   ]
  },
  {
   "cell_type": "code",
   "execution_count": 66,
   "id": "3421b632-7e4b-41dd-ac04-144a4b2f1e97",
   "metadata": {},
   "outputs": [
    {
     "name": "stdout",
     "output_type": "stream",
     "text": [
      "Dataset after outlier removal: (901, 15)\n",
      "Cleaned dataset saved as mobile_cleaned.csv\n"
     ]
    },
    {
     "name": "stderr",
     "output_type": "stream",
     "text": [
      "C:\\Users\\ajyad\\AppData\\Local\\Temp\\ipykernel_32264\\1804199276.py:10: SettingWithCopyWarning: \n",
      "A value is trying to be set on a copy of a slice from a DataFrame\n",
      "\n",
      "See the caveats in the documentation: https://pandas.pydata.org/pandas-docs/stable/user_guide/indexing.html#returning-a-view-versus-a-copy\n",
      "  df.drop(columns=['z_score_spec'], inplace=True)\n"
     ]
    }
   ],
   "source": [
    "# 1. Remove Outliers in Spec Score using Z-Score\n",
    "# ===============================\n",
    "from scipy.stats import zscore\n",
    "\n",
    "df['z_score_spec'] = zscore(df['Spec Score'].dropna())  # calculate z-scores\n",
    "# Keep only rows where |z| < 3\n",
    "df = df[(df['z_score_spec'].abs() < 3) | (df['z_score_spec'].isna())]\n",
    "\n",
    "# Drop helper column\n",
    "df.drop(columns=['z_score_spec'], inplace=True)\n",
    "\n",
    "\n",
    "# 2. Remove Outliers in Price using IQR\n",
    "# ===============================\n",
    "Q1 = df['price'].quantile(0.25)\n",
    "Q3 = df['price'].quantile(0.75)\n",
    "IQR = Q3 - Q1\n",
    "\n",
    "lower_bound = Q1 - 1.5 * IQR\n",
    "upper_bound = Q3 + 1.5 * IQR\n",
    "\n",
    "df = df[(df['price'] >= lower_bound) & (df['price'] <= upper_bound)]\n",
    "\n",
    "# ===============================\n",
    "# Final Cleaned Dataset\n",
    "# ===============================\n",
    "print(\"Dataset after outlier removal:\", df.shape)\n",
    "df.head()\n",
    "\n",
    "# Save cleaned dataset\n",
    "df.to_csv(\"mobile_cleaned_1.csv\", index=False)\n",
    "print(\"Cleaned dataset saved as mobile_cleaned.csv\")"
   ]
  },
  {
   "cell_type": "markdown",
   "id": "c3029f8d-df34-4632-9a71-5bd5322f2909",
   "metadata": {},
   "source": [
    "# Now we have removed outlier, and our data is full cleaned and now we will apply machine learning algorithm and business question"
   ]
  },
  {
   "cell_type": "markdown",
   "id": "8c61b467-2bcd-4b45-bd9e-bfe08c83b205",
   "metadata": {},
   "source": [
    "### 1. Data Pre-processing (Feature Engineering, Scaling, and Splitting)"
   ]
  },
  {
   "cell_type": "code",
   "execution_count": 73,
   "id": "f5545752-212b-410b-9766-425acd16be4e",
   "metadata": {},
   "outputs": [],
   "source": [
    "# I'll remove unnecessary columns \n",
    "df = df.drop(columns=[\"img\", \"tag\"], errors=\"ignore\")\n",
    "\n",
    "# Target: High price (1) vs Low price (0) \n",
    "#Phones above median price → labeled 1 (High Price)\n",
    "#Phones at or below median → labeled 0 (Low Price)\n",
    "median_price = df[\"price\"].median()\n",
    "df[\"HighPrice\"] = (df[\"price\"] > median_price).astype(int)\n",
    "\n",
    "\n",
    "\n",
    "# Encode categorical variables \n",
    "#It will Converts text columns (like, \"brand\", \"processor\") into numeric codes\n",
    "for col in df.select_dtypes(include=\"object\").columns:\n",
    "    df[col], _ = pd.factorize(df[col])\n",
    "\n",
    "# Features & target\n",
    "# X = all input features (specs).\n",
    "# y = target label (HighPrice vs LowPrice)\n",
    "X = df.drop(columns=[\"price\", \"HighPrice\"]).values\n",
    "y = df[\"HighPrice\"].values\n",
    "\n",
    "# Min-max scaling\n",
    "X = (X - X.min(axis=0)) / (X.max(axis=0) - X.min(axis=0) + 1e-8)\n",
    "# from scaling it Scales each feature between 0 and 1\n",
    "#it will help neutral network train faster\n",
    "\n",
    "# Manual train-test split\n",
    "np.random.seed(42)\n",
    "indices = np.arange(len(X))\n",
    "np.random.shuffle(indices)\n",
    "\n",
    "split = int(0.8 * len(X))\n",
    "train_idx, test_idx = indices[:split], indices[split:]\n",
    "\n",
    "X_train, X_test = X[train_idx], X[test_idx]\n",
    "y_train, y_test = y[train_idx], y[test_idx]\n",
    "# it randomly shuffles dataset.\n",
    "# Splits: 80% training, 20% testing.\n",
    "# X_train, y_train → used to train the models.\n",
    "# X_test, y_test → used to evaluate them\n"
   ]
  },
  {
   "cell_type": "markdown",
   "id": "1746398f-604e-4278-8e70-70fad482edbb",
   "metadata": {},
   "source": [
    "### 2. Logistic Regression (Keras)"
   ]
  },
  {
   "cell_type": "code",
   "execution_count": 75,
   "id": "13d6d82d-4e4f-4624-a0c3-0ca08cc82e0f",
   "metadata": {},
   "outputs": [
    {
     "name": "stdout",
     "output_type": "stream",
     "text": [
      "\u001b[1m6/6\u001b[0m \u001b[32m━━━━━━━━━━━━━━━━━━━━\u001b[0m\u001b[37m\u001b[0m \u001b[1m0s\u001b[0m 11ms/step\n"
     ]
    }
   ],
   "source": [
    "\n",
    "log_model = keras.Sequential([\n",
    "    layers.Input(shape=(X_train.shape[1],)),\n",
    "    layers.Dense(1, activation=\"sigmoid\")  # logistic regression\n",
    "])\n",
    "\n",
    "log_model.compile(optimizer=\"adam\", loss=\"binary_crossentropy\", metrics=[\"accuracy\"])\n",
    "log_model.fit(X_train, y_train, epochs=30, batch_size=32, verbose=0)\n",
    "\n",
    "log_preds = (log_model.predict(X_test) > 0.5).astype(int).flatten()\n",
    "# Keras is used to create a logistic regression model. It guesses whether a phone falls into the High Price or Low Price category based on the input of the mobile parameters. After 30 epochs of training, the model was applied to the test set to produce predictions."
   ]
  },
  {
   "cell_type": "markdown",
   "id": "73f837c3-27f5-4d0c-9327-e04363bf453f",
   "metadata": {},
   "source": [
    "## 3. SVM-like Model (Hinge Loss)"
   ]
  },
  {
   "cell_type": "code",
   "execution_count": 76,
   "id": "ab070895-c28b-440e-89a6-c73b3d0ae9cb",
   "metadata": {},
   "outputs": [
    {
     "name": "stdout",
     "output_type": "stream",
     "text": [
      "\u001b[1m6/6\u001b[0m \u001b[32m━━━━━━━━━━━━━━━━━━━━\u001b[0m\u001b[37m\u001b[0m \u001b[1m0s\u001b[0m 11ms/step\n"
     ]
    }
   ],
   "source": [
    "# Labels in {-1, 1} for hinge loss\n",
    "y_train_svm = np.where(y_train == 1, 1, -1)\n",
    "y_test_svm = np.where(y_test == 1, 1, -1)\n",
    "\n",
    "svm_model = keras.Sequential([\n",
    "    layers.Input(shape=(X_train.shape[1],)),\n",
    "    layers.Dense(1, activation=\"tanh\")  # outputs between -1 and 1\n",
    "])\n",
    "\n",
    "svm_model.compile(optimizer=\"adam\", loss=\"hinge\", metrics=[\"accuracy\"])\n",
    "svm_model.fit(X_train, y_train_svm, epochs=30, batch_size=32, verbose=0)\n",
    "\n",
    "svm_preds = np.where(svm_model.predict(X_test) > 0, 1, -1).flatten()\n",
    "# Hinge loss function-based SVM-like model in Keras. To comply with the hinge loss criterion, the target labels were changed to {-1, 1}. Using a decision boundary, the model learns to distinguish between phones with high and low prices, and predictions were produced on the test set."
   ]
  },
  {
   "cell_type": "markdown",
   "id": "a6fb1254-21aa-4e4e-b46f-c5d92befacfd",
   "metadata": {},
   "source": [
    "## 4. Evaluation \n"
   ]
  },
  {
   "cell_type": "code",
   "execution_count": 77,
   "id": "1327dcad-742c-4c5f-9379-35d5ae5b8b25",
   "metadata": {},
   "outputs": [
    {
     "name": "stdout",
     "output_type": "stream",
     "text": [
      "📊 Logistic Regression Metrics:\n",
      "Accuracy=0.519, Precision=0.508, Recall=0.708, F1=0.592\n",
      "\n",
      "📊 SVM-like Metrics:\n",
      "Accuracy=0.685, Precision=0.638, Recall=0.831, F1=0.722\n"
     ]
    },
    {
     "data": {
      "image/png": "[encoded data removed]",
      "text/plain": [
       "<Figure size 1200x500 with 4 Axes>"
      ]
     },
     "metadata": {},
     "output_type": "display_data"
    }
   ],
   "source": [
    "\n",
    "def confusion_matrix_np(y_true, y_pred, labels):\n",
    "    cm = np.zeros((len(labels), len(labels)), dtype=int)\n",
    "    for t, p in zip(y_true, y_pred):\n",
    "        cm[labels.index(t)][labels.index(p)] += 1\n",
    "    return cm\n",
    "\n",
    "def classification_metrics(y_true, y_pred, positive=1):\n",
    "    tp = np.sum((y_true == positive) & (y_pred == positive))\n",
    "    tn = np.sum((y_true != positive) & (y_pred != positive))\n",
    "    fp = np.sum((y_true != positive) & (y_pred == positive))\n",
    "    fn = np.sum((y_true == positive) & (y_pred != positive))\n",
    "    \n",
    "    acc = (tp + tn) / len(y_true)\n",
    "    prec = tp / (tp + fp + 1e-8)\n",
    "    rec = tp / (tp + fn + 1e-8)\n",
    "    f1 = 2 * prec * rec / (prec + rec + 1e-8)\n",
    "    return acc, prec, rec, f1\n",
    "\n",
    "# Metrics\n",
    "log_acc, log_prec, log_rec, log_f1 = classification_metrics(y_test, log_preds)\n",
    "svm_acc, svm_prec, svm_rec, svm_f1 = classification_metrics(y_test_svm, svm_preds, positive=1)\n",
    "\n",
    "print(\"📊 Logistic Regression Metrics:\")\n",
    "print(f\"Accuracy={log_acc:.3f}, Precision={log_prec:.3f}, Recall={log_rec:.3f}, F1={log_f1:.3f}\")\n",
    "\n",
    "print(\"\\n📊 SVM-like Metrics:\")\n",
    "print(f\"Accuracy={svm_acc:.3f}, Precision={svm_prec:.3f}, Recall={svm_rec:.3f}, F1={svm_f1:.3f}\")\n",
    "\n",
    "# Confusion Matrices\n",
    "cm1 = confusion_matrix_np(list(y_test), list(log_preds), labels=[0,1])\n",
    "cm2 = confusion_matrix_np(list(y_test_svm), list(svm_preds), labels=[-1,1])\n",
    "\n",
    "fig, axes = plt.subplots(1, 2, figsize=(12, 5))\n",
    "sns.heatmap(cm1, annot=True, fmt=\"d\", cmap=\"Blues\", ax=axes[0])\n",
    "axes[0].set_title(\"Logistic Regression Confusion Matrix\")\n",
    "axes[0].set_xlabel(\"Predicted\")\n",
    "axes[0].set_ylabel(\"Actual\")\n",
    "\n",
    "sns.heatmap(cm2, annot=True, fmt=\"d\", cmap=\"Greens\", ax=axes[1])\n",
    "axes[1].set_title(\"SVM-like Confusion Matrix\")\n",
    "axes[1].set_xlabel(\"Predicted\")\n",
    "axes[1].set_ylabel(\"Actual\")\n",
    "\n",
    "plt.show()\n"
   ]
  },
  {
   "cell_type": "markdown",
   "id": "53ea31fd-262b-4213-9089-573d1d422a70",
   "metadata": {},
   "source": [
    "# 5. Final Comparison Table"
   ]
  },
  {
   "cell_type": "code",
   "execution_count": 78,
   "id": "3a17ea71-1125-4446-b5dd-4a0d20dd17c2",
   "metadata": {},
   "outputs": [
    {
     "name": "stdout",
     "output_type": "stream",
     "text": [
      "\n",
      "✅ Final Comparison Table:\n",
      "                 Model  Accuracy  Precision    Recall  F1-Score\n",
      "0  Logistic Regression  0.519337   0.508065  0.707865  0.591549\n",
      "1             SVM-like  0.685083   0.637931  0.831461  0.721951\n"
     ]
    }
   ],
   "source": [
    "\n",
    "results = pd.DataFrame({\n",
    "    \"Model\": [\"Logistic Regression\", \"SVM-like\"],\n",
    "    \"Accuracy\": [log_acc, svm_acc],\n",
    "    \"Precision\": [log_prec, svm_prec],\n",
    "    \"Recall\": [log_rec, svm_rec],\n",
    "    \"F1-Score\": [log_f1, svm_f1]\n",
    "})\n",
    "\n",
    "print(\"\\n✅ Final Comparison Table:\")\n",
    "print(results)\n",
    "\n",
    "# As a last step, we made a comparison table to show how well the SVM-like and logistic regression models performed. \n",
    "#Key evaluation criteria (Accuracy, Precision, Recall, and F1-Score) are included in the table so that we can compare,\n",
    "#the two methods directly and determine whether model is more effective at determining if a phone is high or low in price."
   ]
  },
  {
   "cell_type": "code",
   "execution_count": null,
   "id": "c41d62b3-7571-4910-a87d-43018fe696e7",
   "metadata": {},
   "outputs": [],
   "source": []
  },
  {
   "cell_type": "markdown",
   "id": "54e0b624-f848-4c2b-a5f0-c2b4d746024a",
   "metadata": {},
   "source": [
    "### Can we predict whether a mobile phone will be classified as High Price or Low Price based on its specifications (RAM, battery, processor, display, camera, etc.)?"
   ]
  },
  {
   "cell_type": "code",
   "execution_count": 79,
   "id": "ad7764f1-778d-481c-a476-9f23d7af6e33",
   "metadata": {},
   "outputs": [],
   "source": [
    "##Logistic Regression\n",
    "\n",
    "#Accuracy: about 47%; for binary classification, this is poorer than random guessing.\n",
    "\n",
    "#Precision: about 47% (it is about 50% accurate when predicting high price).\n",
    "\n",
    "#Recall: about 64% (it misses many expensive phones but catches some).\n",
    "\n",
    "#F1-Score: ~0.54 (poor memory and precision balance).\n",
    "\n",
    "#The poor performance of logistic regression is probably due to the non-linear nature of the relationship between price and specifications.\n",
    "\n",
    " #   SVM-like Model (Keras Hinge Loss)\n",
    "\n",
    "#Accuracy: ~49% (still weak, but marginally better than Logistic Regression).\n",
    "#~49% precision, which is superior to logistic regression.\n",
    "\n",
    "#100% recall (all expensive phones are correctly identified).\n",
    "\n",
    "#~0.66 is the F1-score (far better balance).\n",
    "\n",
    "#The reason the SVM-like model is more dependable is\n",
    "\n",
    "#A high-priced phone is always picked up (recall = 1.0).\n",
    "\n",
    "#It has a higher F1-Score (0.66 vs. 0.54), which indicates superior balance all around.\n"
   ]
  },
  {
   "cell_type": "code",
   "execution_count": null,
   "id": "4612f051-c246-47e0-8dd1-26ca0ca955ea",
   "metadata": {},
   "outputs": [],
   "source": [
    "#Due to their poor accuracy (about 47–49%), both models may require:\n",
    "\n",
    "#Better feature engineering, more features, or\n",
    "\n",
    "#Labeling that is more balanced (the median split may not be the best option).\n",
    "\n",
    "#However, the SVM-like model is superior than the other one because:\n",
    "\n",
    "#Its F1-score is higher at 0.66.\n",
    "\n",
    "#Because of its 100% flawless recall, no costly phones are overlooked."
   ]
  },
  {
   "cell_type": "code",
   "execution_count": 80,
   "id": "f9e22b27-2c2d-4bbc-95b4-6579c2a0b245",
   "metadata": {},
   "outputs": [],
   "source": [
    "#Yes, we can try to determine if a mobile device is expensive or inexpensive based on its specifications, \n",
    "#but the models are only about 50% accurate with this dataset and features. The SVM-like model performs better than Logistic Regression among the two evaluated, \n",
    "#making it the superior option for this issue."
   ]
  },
  {
   "cell_type": "code",
   "execution_count": null,
   "id": "a2f811b5-b614-45b1-8747-bd900a2dcd3a",
   "metadata": {},
   "outputs": [],
   "source": []
  }
 ],
 "metadata": {
  "kernelspec": {
   "display_name": "Python [conda env:base] *",
   "language": "python",
   "name": "conda-base-py"
  },
  "language_info": {
   "codemirror_mode": {
    "name": "ipython",
    "version": 3
   },
   "file_extension": ".py",
   "mimetype": "text/x-python",
   "name": "python",
   "nbconvert_exporter": "python",
   "pygments_lexer": "ipython3",
   "version": "3.13.5"
  }
 },
 "nbformat": 4,
 "nbformat_minor": 5
}
